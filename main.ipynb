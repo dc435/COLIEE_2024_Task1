{
 "cells": [
  {
   "cell_type": "markdown",
   "metadata": {},
   "source": [
    "#### COLIEE 2024"
   ]
  },
  {
   "cell_type": "markdown",
   "metadata": {},
   "source": [
    "This is the implementation of Task 1 of the 2024 Competition on Legal Information and Extraction/Entailment (COLIEE) by Damian Curran and Mike Conway.\n",
    "\n",
    "Details of the implementation can be found in our paper 'Similarity Ranking of Case Law Using Propositions as Features' (2024)."
   ]
  },
  {
   "cell_type": "markdown",
   "metadata": {},
   "source": [
    "#### Imports"
   ]
  },
  {
   "cell_type": "code",
   "execution_count": 1,
   "metadata": {},
   "outputs": [],
   "source": [
    "# Import functions from helper python files.\n",
    "\n",
    "import t5train_code, file_code, pairs_code, model_code\n",
    "import importlib"
   ]
  },
  {
   "cell_type": "markdown",
   "metadata": {},
   "source": [
    "#### t5 Proposition Extraction Model"
   ]
  },
  {
   "cell_type": "code",
   "execution_count": null,
   "metadata": {},
   "outputs": [],
   "source": [
    "# Fine-tune t5-base on training data\n",
    "\n",
    "importlib.reload(t5train_code)\n",
    "from t5train_code import get_trainer, train_save_model\n",
    "\n",
    "trainer = get_trainer()\n",
    "train_save_model(trainer)"
   ]
  },
  {
   "cell_type": "markdown",
   "metadata": {},
   "source": [
    "#### Files"
   ]
  },
  {
   "cell_type": "code",
   "execution_count": null,
   "metadata": {},
   "outputs": [],
   "source": [
    "importlib.reload(file_code)\n",
    "from file_code import (\n",
    "    get_files, add_paragraphs, get_paragraphs_formatted, add_suppressed_sections, add_propositions, get_english_propositions,\n",
    "    add_sentences, get_english_sentences,\n",
    "    add_quotes, add_entities, add_strings_sets, add_set_lists, add_judge_name, add_year,\n",
    "    get_embeddings)"
   ]
  },
  {
   "cell_type": "code",
   "execution_count": null,
   "metadata": {},
   "outputs": [],
   "source": [
    "# Generate files dataframe, one row per file. Extract file features using the following functions:\n",
    "\n",
    "files = get_files()\n",
    "add_paragraphs(files)\n",
    "get_paragraphs_formatted(files)\n",
    "add_suppressed_sections(files)\n",
    "add_propositions(files)\n",
    "get_english_propositions(files)\n",
    "add_sentences(files)\n",
    "get_english_sentences(files)\n",
    "add_quotes(files)\n",
    "add_entities(files)\n",
    "add_strings_sets(files)\n",
    "add_set_lists(files)\n",
    "add_judge_name(files)\n",
    "add_year(files)\n",
    "get_embeddings(files)"
   ]
  },
  {
   "cell_type": "markdown",
   "metadata": {},
   "source": [
    "#### Pairs"
   ]
  },
  {
   "cell_type": "code",
   "execution_count": null,
   "metadata": {},
   "outputs": [],
   "source": [
    "importlib.reload(pairs_code)\n",
    "from pairs_code import (get_pairs, add_bins, get_prop_max_cos_sim_sents, get_prop_max_cos_sim_paras,\n",
    "                        get_prop_max_jaccard_sents, get_prop_max_jaccard_paras, get_prop_max_overlap_sents, get_prop_max_overlap_paras, add_max_overall,\n",
    "                        get_case_jaccard_sims, check_same_case, get_case_tfidf_scores, get_num_quotes, binarize_quotes, check_years, add_judge_checks)"
   ]
  },
  {
   "cell_type": "code",
   "execution_count": null,
   "metadata": {},
   "outputs": [],
   "source": [
    "# Generate pairs dataframe. One query-candidate case pair per row. Compare file features from files df to generate pair features:\n",
    "\n",
    "pairs = get_pairs(files)\n",
    "get_prop_max_cos_sim_sents(files, pairs)\n",
    "get_prop_max_cos_sim_paras(files, pairs)\n",
    "get_prop_max_jaccard_sents(files,pairs)\n",
    "get_prop_max_jaccard_paras(files,pairs)\n",
    "get_prop_max_overlap_sents(files,pairs)\n",
    "get_prop_max_overlap_paras(files,pairs)\n",
    "add_max_overall(pairs,files)\n",
    "get_case_jaccard_sims(files,pairs)\n",
    "check_same_case(pairs)\n",
    "get_case_tfidf_scores(files,pairs)\n",
    "get_num_quotes(files,pairs)\n",
    "binarize_quotes(pairs)\n",
    "check_years(files,pairs)\n",
    "add_judge_checks(files,pairs)\n",
    "add_bins(files, pairs)"
   ]
  },
  {
   "cell_type": "markdown",
   "metadata": {},
   "source": [
    "#### Model"
   ]
  },
  {
   "cell_type": "code",
   "execution_count": null,
   "metadata": {},
   "outputs": [],
   "source": [
    "# Do k-fold validation on train set to identify best hyperparameters:\n",
    "\n",
    "importlib.reload(model_code)\n",
    "from model_code import get_k_fold_model_dev_pairs, save_model_df_pairs\n",
    "\n",
    "model_df_pairs = get_k_fold_model_dev_pairs(pairs)\n",
    "save_model_df_pairs(model_df_pairs)"
   ]
  },
  {
   "cell_type": "code",
   "execution_count": null,
   "metadata": {},
   "outputs": [],
   "source": [
    "importlib.reload(model_code)\n",
    "from model_code import apply_models_to_dfs\n",
    "apply_models_to_dfs(model_df_pairs, infer_type=1)"
   ]
  },
  {
   "cell_type": "code",
   "execution_count": null,
   "metadata": {},
   "outputs": [],
   "source": [
    "importlib.reload(model_code)\n",
    "from model_code import apply_models_to_dfs\n",
    "apply_models_to_dfs(model_df_pairs, infer_type=2)"
   ]
  },
  {
   "cell_type": "markdown",
   "metadata": {},
   "source": [
    "#### Final Inference"
   ]
  },
  {
   "cell_type": "code",
   "execution_count": 1,
   "metadata": {},
   "outputs": [],
   "source": [
    "# Train model\n",
    "\n",
    "importlib.reload(model_code)\n",
    "from model_code import build_train_model\n",
    "\n",
    "train_df = pairs[pairs['set']=='train']\n",
    "model, train_df = build_train_model(train_df)"
   ]
  },
  {
   "cell_type": "code",
   "execution_count": 2,
   "metadata": {},
   "outputs": [],
   "source": [
    "# Generate final results\n",
    "\n",
    "importlib.reload(model_code)\n",
    "from model_code import inference_on_test\n",
    "\n",
    "test_df = pairs[pairs['set']=='test']\n",
    "\n",
    "for infer_type in [1,2]:\n",
    "    results_df = inference_on_test(model, test_df, infer_type)\n",
    "    print()"
   ]
  }
 ],
 "metadata": {
  "kernelspec": {
   "display_name": "py_model_3",
   "language": "python",
   "name": "python3"
  },
  "language_info": {
   "codemirror_mode": {
    "name": "ipython",
    "version": 3
   },
   "file_extension": ".py",
   "mimetype": "text/x-python",
   "name": "python",
   "nbconvert_exporter": "python",
   "pygments_lexer": "ipython3",
   "version": "3.10.9"
  }
 },
 "nbformat": 4,
 "nbformat_minor": 2
}
